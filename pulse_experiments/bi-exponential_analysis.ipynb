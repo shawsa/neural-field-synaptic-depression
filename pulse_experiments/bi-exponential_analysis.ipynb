{
 "cells": [
  {
   "cell_type": "code",
   "execution_count": 1,
   "id": "2e8c4f77",
   "metadata": {},
   "outputs": [],
   "source": [
    "%matplotlib inline\n",
    "%load_ext autoreload\n",
    "%autoreload 2\n",
    "import matplotlib.pyplot as plt\n",
    "\n",
    "import sympy as sym\n",
    "from sympy.functions.special.delta_functions import DiracDelta\n",
    "# Heaviside numerics workaround\n",
    "sympy_modules = [{'Heaviside': lambda x: np.heaviside(x,0.5)}, 'numpy']\n",
    "from functools import reduce\n",
    "\n",
    "import numpy as np\n",
    "import numpy.linalg as la\n",
    "\n",
    "# import dill # pickle but better\n",
    "import pickle"
   ]
  },
  {
   "cell_type": "code",
   "execution_count": 2,
   "id": "4e53f72d",
   "metadata": {},
   "outputs": [],
   "source": [
    "import matplotlib\n",
    "matplotlib.rcParams.update({'font.size': 16})"
   ]
  },
  {
   "cell_type": "markdown",
   "id": "baa13f83",
   "metadata": {},
   "source": [
    "# Traveling Pulse"
   ]
  },
  {
   "cell_type": "code",
   "execution_count": 3,
   "id": "7d95b2f5",
   "metadata": {},
   "outputs": [],
   "source": [
    "# file_name = 'synaptic_depression_symbolics.pickle'\n",
    "file_name = 'bi-exponential_symbolics.pickle'\n",
    "\n",
    "display_mode = 'display'\n",
    "# display_mode = 'latex'\n",
    "def my_display(expr):\n",
    "    if display_mode == 'latex':\n",
    "        print(sym.latex(expr))\n",
    "    else:\n",
    "        display(expr)\n",
    "    return None\n",
    "\n",
    "# a dictionary of variable definitions\n",
    "if 'sub_dict' not in globals().keys():\n",
    "    sub_dict = {}\n",
    "\n",
    "def recursive_reduce(expression):\n",
    "    reduced_expression = expression\n",
    "    while any(v in reduced_expression.free_symbols for v in sub_dict.keys()):\n",
    "        reduced_expression = reduced_expression.subs(sub_dict)\n",
    "    return reduced_expression\n",
    "\n",
    "if 'expr_dict' not in globals().keys():\n",
    "    expr_dict = {}"
   ]
  },
  {
   "cell_type": "code",
   "execution_count": 4,
   "id": "04727c74",
   "metadata": {},
   "outputs": [
    {
     "data": {
      "text/latex": [
       "$\\displaystyle Q{\\left(\\xi \\right)} = \\begin{cases} \\frac{\\alpha \\beta \\left(- e^{\\frac{\\Delta}{\\alpha c}} + e^{- \\frac{\\Delta \\beta}{c}}\\right) e^{\\frac{\\xi}{\\alpha c}}}{\\alpha \\beta + 1} + 1 & \\text{for}\\: \\Delta < - \\xi \\\\\\frac{\\alpha \\beta e^{\\frac{\\xi \\left(\\alpha \\beta + 1\\right)}{\\alpha c}} + 1}{\\alpha \\beta + 1} & \\text{for}\\: \\xi < 0 \\\\1 & \\text{otherwise} \\end{cases}$"
      ],
      "text/plain": [
       "Eq(Q(\\xi), Piecewise((\\alpha*\\beta*(-exp(\\Delta/(\\alpha*c)) + exp(-\\Delta*\\beta/c))*exp(\\xi/(\\alpha*c))/(\\alpha*\\beta + 1) + 1, \\Delta < -\\xi), ((\\alpha*\\beta*exp(\\xi*(\\alpha*\\beta + 1)/(\\alpha*c)) + 1)/(\\alpha*\\beta + 1), \\xi < 0), (1, True)))"
      ]
     },
     "metadata": {},
     "output_type": "display_data"
    }
   ],
   "source": [
    "ξ, y = sym.symbols('\\\\xi y', real=True)\n",
    "α, β, c, Δ, μ = sym.symbols('\\\\alpha, \\\\beta, c, \\\\Delta \\\\mu', real=True, positive=True)\n",
    "Q_right = 1\n",
    "Q_mid = 1/(1+α*β)*(1 + α*β*sym.exp((1+α*β)/(c*α)*ξ))\n",
    "Q_left = 1 + α*β/(1+α*β)*(sym.exp(-β*Δ/c) - sym.exp(Δ/(α*c)))*sym.exp(ξ/(α*c))\n",
    "Q = sym.Piecewise((Q_left, ξ<-Δ), (Q_mid, ξ<0), (Q_right, True))\n",
    "my_display(sym.Eq(sym.Function('Q')(ξ), Q))\n",
    "expr_dict['Q_left'] = Q_left\n",
    "expr_dict['Q_mid'] = Q_mid\n",
    "expr_dict['Q_right'] = Q_right\n",
    "expr_dict['Q'] = Q"
   ]
  },
  {
   "cell_type": "code",
   "execution_count": 5,
   "id": "b4a0d652",
   "metadata": {},
   "outputs": [
    {
     "name": "stdout",
     "output_type": "stream",
     "text": [
      "Assuming\n"
     ]
    },
    {
     "data": {
      "text/latex": [
       "$\\displaystyle \\frac{\\alpha \\beta + 1}{\\alpha c} \\neq 1$"
      ],
      "text/plain": [
       "Ne((\\alpha*\\beta + 1)/(\\alpha*c), 1)"
      ]
     },
     "metadata": {},
     "output_type": "display_data"
    },
    {
     "data": {
      "text/latex": [
       "$\\displaystyle \\text{True}$"
      ],
      "text/plain": [
       "True"
      ]
     },
     "metadata": {},
     "output_type": "display_data"
    },
    {
     "name": "stdout",
     "output_type": "stream",
     "text": [
      "with\n"
     ]
    },
    {
     "data": {
      "text/latex": [
       "$\\displaystyle r_{1} = \\frac{\\alpha \\beta + 1}{\\alpha c}$"
      ],
      "text/plain": [
       "Eq(r_1, (\\alpha*\\beta + 1)/(\\alpha*c))"
      ]
     },
     "metadata": {},
     "output_type": "display_data"
    },
    {
     "data": {
      "text/latex": [
       "$\\displaystyle B_{1} = \\frac{1}{\\alpha \\beta + 1}$"
      ],
      "text/plain": [
       "Eq(B_1, 1/(\\alpha*\\beta + 1))"
      ]
     },
     "metadata": {},
     "output_type": "display_data"
    },
    {
     "data": {
      "text/latex": [
       "$\\displaystyle B_{2} = \\frac{\\alpha \\beta}{\\alpha \\beta + 1}$"
      ],
      "text/plain": [
       "Eq(B_2, \\alpha*\\beta/(\\alpha*\\beta + 1))"
      ]
     },
     "metadata": {},
     "output_type": "display_data"
    },
    {
     "data": {
      "text/latex": [
       "$\\displaystyle B_{3} = \\frac{\\left(- B_{2} e^{\\Delta} + \\left(B_{1} r_{1} e^{\\Delta} - B_{1} r_{1} - B_{1} e^{\\Delta} + B_{1} + B_{2}\\right) e^{\\Delta r_{1}}\\right) e^{- \\Delta r_{1}}}{2 \\left(r_{1} - 1\\right)}$"
      ],
      "text/plain": [
       "Eq(B_3, (-B_2*exp(\\Delta) + (B_1*r_1*exp(\\Delta) - B_1*r_1 - B_1*exp(\\Delta) + B_1 + B_2)*exp(\\Delta*r_1))*exp(-\\Delta*r_1)/(2*(r_1 - 1)))"
      ]
     },
     "metadata": {},
     "output_type": "display_data"
    },
    {
     "data": {
      "text/latex": [
       "$\\displaystyle B_{4} = \\frac{\\left(- B_{1} \\left(r_{1} + 1\\right) e^{\\Delta r_{1}} - B_{2} + \\left(B_{1} r_{1} + B_{1} + B_{2}\\right) e^{\\Delta \\left(r_{1} + 1\\right)}\\right) e^{- \\Delta \\left(r_{1} + 1\\right)}}{2 \\left(r_{1} + 1\\right)}$"
      ],
      "text/plain": [
       "Eq(B_4, (-B_1*(r_1 + 1)*exp(\\Delta*r_1) - B_2 + (B_1*r_1 + B_1 + B_2)*exp(\\Delta*(r_1 + 1)))*exp(-\\Delta*(r_1 + 1))/(2*(r_1 + 1)))"
      ]
     },
     "metadata": {},
     "output_type": "display_data"
    },
    {
     "data": {
      "text/latex": [
       "$\\displaystyle B_{5} = \\frac{B_{2}}{r_{1} + 1}$"
      ],
      "text/plain": [
       "Eq(B_5, B_2/(r_1 + 1))"
      ]
     },
     "metadata": {},
     "output_type": "display_data"
    },
    {
     "data": {
      "text/latex": [
       "$\\displaystyle B_{6} = - \\frac{\\left(B_{1} \\left(r_{1} + 1\\right) e^{\\Delta \\left(r_{1} + 1\\right)} + B_{2} e^{\\Delta}\\right) e^{- \\Delta \\left(r_{1} + 2\\right)}}{r_{1} + 1}$"
      ],
      "text/plain": [
       "Eq(B_6, -(B_1*(r_1 + 1)*exp(\\Delta*(r_1 + 1)) + B_2*exp(\\Delta))*exp(-\\Delta*(r_1 + 2))/(r_1 + 1))"
      ]
     },
     "metadata": {},
     "output_type": "display_data"
    },
    {
     "data": {
      "text/latex": [
       "$\\displaystyle B_{7} = - \\frac{B_{2}}{r_{1} - 1}$"
      ],
      "text/plain": [
       "Eq(B_7, -B_2/(r_1 - 1))"
      ]
     },
     "metadata": {},
     "output_type": "display_data"
    },
    {
     "data": {
      "text/latex": [
       "$\\displaystyle B_{8} = \\frac{- B_{1} \\left(r_{1} - 1\\right) + B_{2}}{r_{1} - 1}$"
      ],
      "text/plain": [
       "Eq(B_8, (-B_1*(r_1 - 1) + B_2)/(r_1 - 1))"
      ]
     },
     "metadata": {},
     "output_type": "display_data"
    },
    {
     "data": {
      "text/latex": [
       "$\\displaystyle B_{9} = \\frac{B_{6}}{2 \\left(\\mu c + 1\\right)}$"
      ],
      "text/plain": [
       "Eq(B_9, B_6/(2*(\\mu*c + 1)))"
      ]
     },
     "metadata": {},
     "output_type": "display_data"
    },
    {
     "data": {
      "text/latex": [
       "$\\displaystyle B_{10} = - \\frac{B_{8}}{2 \\mu c - 2}$"
      ],
      "text/plain": [
       "Eq(B_10, -B_8/(2*\\mu*c - 2))"
      ]
     },
     "metadata": {},
     "output_type": "display_data"
    },
    {
     "data": {
      "text/latex": [
       "$\\displaystyle B_{11} = - \\frac{B_{5} + B_{7}}{2 \\mu c r_{1} - 2}$"
      ],
      "text/plain": [
       "Eq(B_11, -(B_5 + B_7)/(2*\\mu*c*r_1 - 2))"
      ]
     },
     "metadata": {},
     "output_type": "display_data"
    },
    {
     "data": {
      "text/latex": [
       "$\\displaystyle B_{12} = - \\frac{B_{3}}{\\mu c - 1}$"
      ],
      "text/plain": [
       "Eq(B_12, -B_3/(\\mu*c - 1))"
      ]
     },
     "metadata": {},
     "output_type": "display_data"
    },
    {
     "data": {
      "text/latex": [
       "$\\displaystyle B_{13} = \\frac{B_{4}}{\\mu c + 1}$"
      ],
      "text/plain": [
       "Eq(B_13, B_4/(\\mu*c + 1))"
      ]
     },
     "metadata": {},
     "output_type": "display_data"
    },
    {
     "data": {
      "text/latex": [
       "$\\displaystyle A_{M} = - B_{1} - B_{10} - B_{11} + B_{13} - B_{9}$"
      ],
      "text/plain": [
       "Eq(A_M, -B_1 - B_10 - B_11 + B_13 - B_9)"
      ]
     },
     "metadata": {},
     "output_type": "display_data"
    },
    {
     "data": {
      "text/latex": [
       "$\\displaystyle A_{L} = A_{M} + B_{1} e^{\\frac{\\Delta}{\\mu c}} + B_{10} e^{- \\Delta + \\frac{\\Delta}{\\mu c}} + B_{11} e^{- \\Delta r_{1} + \\frac{\\Delta}{\\mu c}} - B_{12} e^{- \\Delta + \\frac{\\Delta}{\\mu c}} + B_{9} e^{\\Delta + \\frac{\\Delta}{\\mu c}}$"
      ],
      "text/plain": [
       "Eq(A_L, A_M + B_1*exp(\\Delta/(\\mu*c)) + B_10*exp(-\\Delta + \\Delta/(\\mu*c)) + B_11*exp(-\\Delta*r_1 + \\Delta/(\\mu*c)) - B_12*exp(-\\Delta + \\Delta/(\\mu*c)) + B_9*exp(\\Delta + \\Delta/(\\mu*c)))"
      ]
     },
     "metadata": {},
     "output_type": "display_data"
    },
    {
     "data": {
      "text/latex": [
       "$\\displaystyle U{\\left(\\xi \\right)} = \\begin{cases} A_{L} e^{\\frac{\\xi}{\\mu c}} + B_{12} e^{\\xi} & \\text{for}\\: \\Delta < - \\xi \\\\A_{M} e^{\\frac{\\xi}{\\mu c}} + B_{1} + B_{10} e^{\\xi} + B_{11} e^{\\xi r_{1}} + B_{9} e^{- \\xi} & \\text{for}\\: \\xi < 0 \\\\B_{13} e^{- \\xi} & \\text{otherwise} \\end{cases}$"
      ],
      "text/plain": [
       "Eq(U(\\xi), Piecewise((A_L*exp(\\xi/(\\mu*c)) + B_12*exp(\\xi), \\Delta < -\\xi), (A_M*exp(\\xi/(\\mu*c)) + B_1 + B_10*exp(\\xi) + B_11*exp(\\xi*r_1) + B_9*exp(-\\xi), \\xi < 0), (B_13*exp(-\\xi), True)))"
      ]
     },
     "metadata": {},
     "output_type": "display_data"
    }
   ],
   "source": [
    "B1, B2, B3, B4, B5, B6, B7, B8, B9, B10, B11, B12, B13 = sym.symbols([f'B_{i}' for i in range(1, 14)])\n",
    "r1, r2 = sym.symbols('r_1 r_2')\n",
    "\n",
    "assumptions = []\n",
    "sub_dict[r1] = (1+α*β)/(c*α)\n",
    "sub_dict[B1] = 1/(1+α*β)\n",
    "sub_dict[B2] = α*β/(1+α*β)\n",
    "\n",
    "B3_integral_result = sym.integrate(sym.Rational(1,2)*sym.exp(-y)*(B1 + B2*sym.exp(r1*y)), (y, -Δ, 0) )\n",
    "sub_dict[B3] = B3_integral_result.args[0][0]\n",
    "assumptions += [B3_integral_result.args[0][1]]\n",
    "\n",
    "B4_integral_result = sym.integrate(sym.Rational(1,2)*sym.exp(y)*(B1 + B2*sym.exp(r1*y)), (y, -Δ, 0) )\n",
    "sub_dict[B4] = B4_integral_result.args[0][0]\n",
    "assumptions += [B4_integral_result.args[0][1]]\n",
    "\n",
    "sub_dict[B5] = (B2/(1+r1))\n",
    "sub_dict[B6] = (-B1*sym.exp(-Δ) - B2/(1+r1)*sym.exp(-(1+r1)*Δ))\n",
    "sub_dict[B7] = (-B2/(r1-1))\n",
    "sub_dict[B8] = (-B1 + B2/(r1-1))\n",
    "\n",
    "sub_dict[B9] = (B6/2/(1+c*μ))\n",
    "sub_dict[B10] = (B8/2/(1-c*μ))\n",
    "sub_dict[B11] = ((B5+B7)/2/(1-r1*c*μ))\n",
    "sub_dict[B12] = (B3/(1-c*μ))\n",
    "sub_dict[B13] = (B4/(1+c*μ))\n",
    "\n",
    "\n",
    "for key, val in sub_dict.items():\n",
    "    sub_dict[key] = val.simplify()\n",
    "\n",
    "print('Assuming')\n",
    "for assumption in assumptions:\n",
    "    my_display(assumption.subs(sub_dict))\n",
    "    \n",
    "print('with')\n",
    "for key, val in sub_dict.items():\n",
    "    my_display(sym.Eq(key, val))\n",
    "\n",
    "AL, AM = sym.symbols('A_L A_M')\n",
    "U_left = B12*sym.exp(ξ) + AL*sym.exp(ξ/(c*μ))\n",
    "U_right = B13*sym.exp(-ξ)\n",
    "U_mid = B1 + B9*sym.exp(-ξ) + B10*sym.exp(ξ) + B11*sym.exp(r1*ξ) + AM*sym.exp(ξ/(c*μ))\n",
    "U = sym.Piecewise((U_left, ξ<-Δ), \n",
    "                  (U_mid, ξ<0), \n",
    "                  (U_right, True))\n",
    "\n",
    "expr_dict['U'] = U\n",
    "expr_dict['U_left'] = U_left\n",
    "expr_dict['U_mid'] = U_mid\n",
    "expr_dict['U_right'] = U_right\n",
    "\n",
    "AM_subs = sym.solve( (U_right - U_mid).subs(ξ,0), AM)[0]\n",
    "sub_dict[AM] = AM_subs.subs(sub_dict)\n",
    "my_display(sym.Eq(AM, AM_subs))\n",
    "\n",
    "AL_subs = sym.solve( (U_left - U_mid).subs(ξ,-Δ), AL)[0]\n",
    "sub_dict[AL] = AL_subs.subs(sub_dict)\n",
    "my_display(sym.Eq(AL, AL_subs))\n",
    "\n",
    "my_display(sym.Eq(sym.Function('U')(ξ), U))"
   ]
  },
  {
   "cell_type": "code",
   "execution_count": 6,
   "id": "4fff2480",
   "metadata": {},
   "outputs": [
    {
     "data": {
      "text/latex": [
       "$\\displaystyle 0 = A_{M} + B_{1} + B_{10} + B_{11} + B_{9} - \\theta$"
      ],
      "text/plain": [
       "Eq(0, A_M + B_1 + B_10 + B_11 + B_9 - \\theta)"
      ]
     },
     "metadata": {},
     "output_type": "display_data"
    },
    {
     "data": {
      "text/latex": [
       "$\\displaystyle 0 = A_{M} e^{- \\frac{\\Delta}{\\mu c}} + B_{1} + B_{10} e^{- \\Delta} + B_{11} e^{- \\Delta r_{1}} + B_{9} e^{\\Delta} - \\theta$"
      ],
      "text/plain": [
       "Eq(0, A_M*exp(-\\Delta/(\\mu*c)) + B_1 + B_10*exp(-\\Delta) + B_11*exp(-\\Delta*r_1) + B_9*exp(\\Delta) - \\theta)"
      ]
     },
     "metadata": {},
     "output_type": "display_data"
    }
   ],
   "source": [
    "θ = sym.symbols('\\\\theta', positive=True)\n",
    "eq1 = U_mid.subs(ξ, 0) - θ\n",
    "my_display(sym.Eq(0, eq1))\n",
    "eq2 = U_mid.subs(ξ, -Δ) - θ\n",
    "my_display(sym.Eq(0, eq2))\n",
    "expr_dict['speed_width_conditions'] = (eq1, eq2)"
   ]
  },
  {
   "cell_type": "code",
   "execution_count": 7,
   "id": "bbee35fb",
   "metadata": {},
   "outputs": [
    {
     "data": {
      "text/latex": [
       "$\\displaystyle 0 = \\frac{\\left(- \\alpha^{2} \\beta c - 2 \\theta \\left(\\alpha \\beta + 1\\right) \\left(\\mu c + 1\\right) \\left(\\alpha \\beta + \\alpha c + 1\\right) e^{\\frac{\\Delta \\left(\\alpha \\beta + \\alpha c + 1\\right)}{\\alpha c}} - \\left(\\alpha \\beta + \\alpha c + 1\\right) e^{\\frac{\\Delta \\left(\\alpha \\beta + 1\\right)}{\\alpha c}} + \\left(\\alpha \\beta + \\alpha c \\left(\\alpha \\beta + 1\\right) + 1\\right) e^{\\frac{\\Delta \\left(\\alpha \\beta + \\alpha c + 1\\right)}{\\alpha c}}\\right) e^{- \\frac{\\Delta \\left(\\alpha \\beta + \\alpha c + 1\\right)}{\\alpha c}}}{2 \\left(\\alpha \\beta + 1\\right) \\left(\\mu c + 1\\right) \\left(\\alpha \\beta + \\alpha c + 1\\right)}$"
      ],
      "text/plain": [
       "Eq(0, (-\\alpha**2*\\beta*c - 2*\\theta*(\\alpha*\\beta + 1)*(\\mu*c + 1)*(\\alpha*\\beta + \\alpha*c + 1)*exp(\\Delta*(\\alpha*\\beta + \\alpha*c + 1)/(\\alpha*c)) - (\\alpha*\\beta + \\alpha*c + 1)*exp(\\Delta*(\\alpha*\\beta + 1)/(\\alpha*c)) + (\\alpha*\\beta + \\alpha*c*(\\alpha*\\beta + 1) + 1)*exp(\\Delta*(\\alpha*\\beta + \\alpha*c + 1)/(\\alpha*c)))*exp(-\\Delta*(\\alpha*\\beta + \\alpha*c + 1)/(\\alpha*c))/(2*(\\alpha*\\beta + 1)*(\\mu*c + 1)*(\\alpha*\\beta + \\alpha*c + 1)))"
      ]
     },
     "metadata": {},
     "output_type": "display_data"
    },
    {
     "data": {
      "text/latex": [
       "$\\displaystyle 0 = - \\theta - \\left(\\frac{1}{\\alpha \\beta + 1} + \\frac{\\frac{\\alpha \\beta}{\\left(1 + \\frac{\\alpha \\beta + 1}{\\alpha c}\\right) \\left(\\alpha \\beta + 1\\right)} + \\frac{\\alpha \\beta}{\\left(1 - \\frac{\\alpha \\beta + 1}{\\alpha c}\\right) \\left(\\alpha \\beta + 1\\right)}}{2 - \\frac{2 \\mu \\left(\\alpha \\beta + 1\\right)}{\\alpha}} - \\frac{\\left(\\frac{\\alpha \\beta e^{\\Delta}}{\\alpha \\beta + 1} + \\frac{\\left(1 + \\frac{\\alpha \\beta + 1}{\\alpha c}\\right) e^{\\Delta \\left(1 + \\frac{\\alpha \\beta + 1}{\\alpha c}\\right)}}{\\alpha \\beta + 1}\\right) e^{- \\Delta \\left(2 + \\frac{\\alpha \\beta + 1}{\\alpha c}\\right)}}{2 \\left(1 + \\frac{\\alpha \\beta + 1}{\\alpha c}\\right) \\left(\\mu c + 1\\right)} + \\frac{\\left(\\frac{\\alpha \\beta}{\\alpha \\beta + 1} + \\frac{\\left(1 + \\frac{\\alpha \\beta + 1}{\\alpha c}\\right) e^{\\frac{\\Delta \\left(\\alpha \\beta + 1\\right)}{\\alpha c}}}{\\alpha \\beta + 1} - \\left(\\frac{\\alpha \\beta}{\\alpha \\beta + 1} + \\frac{1}{\\alpha \\beta + 1} + \\frac{1}{\\alpha c}\\right) e^{\\Delta \\left(1 + \\frac{\\alpha \\beta + 1}{\\alpha c}\\right)}\\right) e^{- \\Delta \\left(1 + \\frac{\\alpha \\beta + 1}{\\alpha c}\\right)}}{2 \\left(1 + \\frac{\\alpha \\beta + 1}{\\alpha c}\\right) \\left(\\mu c + 1\\right)} + \\frac{\\frac{\\alpha \\beta}{\\alpha \\beta + 1} + \\frac{1 - \\frac{\\alpha \\beta + 1}{\\alpha c}}{\\alpha \\beta + 1}}{\\left(1 - \\frac{\\alpha \\beta + 1}{\\alpha c}\\right) \\left(2 \\mu c - 2\\right)}\\right) e^{- \\frac{\\Delta}{\\mu c}} + \\frac{1}{\\alpha \\beta + 1} + \\frac{\\left(\\frac{\\alpha \\beta}{\\left(1 + \\frac{\\alpha \\beta + 1}{\\alpha c}\\right) \\left(\\alpha \\beta + 1\\right)} + \\frac{\\alpha \\beta}{\\left(1 - \\frac{\\alpha \\beta + 1}{\\alpha c}\\right) \\left(\\alpha \\beta + 1\\right)}\\right) e^{- \\frac{\\Delta \\left(\\alpha \\beta + 1\\right)}{\\alpha c}}}{2 - \\frac{2 \\mu \\left(\\alpha \\beta + 1\\right)}{\\alpha}} - \\frac{\\left(\\frac{\\alpha \\beta e^{\\Delta}}{\\alpha \\beta + 1} + \\frac{\\left(1 + \\frac{\\alpha \\beta + 1}{\\alpha c}\\right) e^{\\Delta \\left(1 + \\frac{\\alpha \\beta + 1}{\\alpha c}\\right)}}{\\alpha \\beta + 1}\\right) e^{\\Delta} e^{- \\Delta \\left(2 + \\frac{\\alpha \\beta + 1}{\\alpha c}\\right)}}{2 \\left(1 + \\frac{\\alpha \\beta + 1}{\\alpha c}\\right) \\left(\\mu c + 1\\right)} + \\frac{\\left(\\frac{\\alpha \\beta}{\\alpha \\beta + 1} + \\frac{1 - \\frac{\\alpha \\beta + 1}{\\alpha c}}{\\alpha \\beta + 1}\\right) e^{- \\Delta}}{\\left(1 - \\frac{\\alpha \\beta + 1}{\\alpha c}\\right) \\left(2 \\mu c - 2\\right)}$"
      ],
      "text/plain": [
       "Eq(0, -\\theta - (1/(\\alpha*\\beta + 1) + (\\alpha*\\beta/((1 + (\\alpha*\\beta + 1)/(\\alpha*c))*(\\alpha*\\beta + 1)) + \\alpha*\\beta/((1 - (\\alpha*\\beta + 1)/(\\alpha*c))*(\\alpha*\\beta + 1)))/(2 - 2*\\mu*(\\alpha*\\beta + 1)/\\alpha) - (\\alpha*\\beta*exp(\\Delta)/(\\alpha*\\beta + 1) + (1 + (\\alpha*\\beta + 1)/(\\alpha*c))*exp(\\Delta*(1 + (\\alpha*\\beta + 1)/(\\alpha*c)))/(\\alpha*\\beta + 1))*exp(-\\Delta*(2 + (\\alpha*\\beta + 1)/(\\alpha*c)))/(2*(1 + (\\alpha*\\beta + 1)/(\\alpha*c))*(\\mu*c + 1)) + (\\alpha*\\beta/(\\alpha*\\beta + 1) + (1 + (\\alpha*\\beta + 1)/(\\alpha*c))*exp(\\Delta*(\\alpha*\\beta + 1)/(\\alpha*c))/(\\alpha*\\beta + 1) - (\\alpha*\\beta/(\\alpha*\\beta + 1) + 1/(\\alpha*\\beta + 1) + 1/(\\alpha*c))*exp(\\Delta*(1 + (\\alpha*\\beta + 1)/(\\alpha*c))))*exp(-\\Delta*(1 + (\\alpha*\\beta + 1)/(\\alpha*c)))/(2*(1 + (\\alpha*\\beta + 1)/(\\alpha*c))*(\\mu*c + 1)) + (\\alpha*\\beta/(\\alpha*\\beta + 1) + (1 - (\\alpha*\\beta + 1)/(\\alpha*c))/(\\alpha*\\beta + 1))/((1 - (\\alpha*\\beta + 1)/(\\alpha*c))*(2*\\mu*c - 2)))*exp(-\\Delta/(\\mu*c)) + 1/(\\alpha*\\beta + 1) + (\\alpha*\\beta/((1 + (\\alpha*\\beta + 1)/(\\alpha*c))*(\\alpha*\\beta + 1)) + \\alpha*\\beta/((1 - (\\alpha*\\beta + 1)/(\\alpha*c))*(\\alpha*\\beta + 1)))*exp(-\\Delta*(\\alpha*\\beta + 1)/(\\alpha*c))/(2 - 2*\\mu*(\\alpha*\\beta + 1)/\\alpha) - (\\alpha*\\beta*exp(\\Delta)/(\\alpha*\\beta + 1) + (1 + (\\alpha*\\beta + 1)/(\\alpha*c))*exp(\\Delta*(1 + (\\alpha*\\beta + 1)/(\\alpha*c)))/(\\alpha*\\beta + 1))*exp(\\Delta)*exp(-\\Delta*(2 + (\\alpha*\\beta + 1)/(\\alpha*c)))/(2*(1 + (\\alpha*\\beta + 1)/(\\alpha*c))*(\\mu*c + 1)) + (\\alpha*\\beta/(\\alpha*\\beta + 1) + (1 - (\\alpha*\\beta + 1)/(\\alpha*c))/(\\alpha*\\beta + 1))*exp(-\\Delta)/((1 - (\\alpha*\\beta + 1)/(\\alpha*c))*(2*\\mu*c - 2)))"
      ]
     },
     "metadata": {},
     "output_type": "display_data"
    }
   ],
   "source": [
    "my_display(sym.Eq(0, recursive_reduce(eq1).simplify()))\n",
    "my_display(sym.Eq(0, recursive_reduce(eq2).simplify()))"
   ]
  },
  {
   "cell_type": "markdown",
   "id": "4ea4dd2c",
   "metadata": {},
   "source": [
    "## Numerics"
   ]
  },
  {
   "cell_type": "markdown",
   "id": "c304dadd",
   "metadata": {},
   "source": [
    "# Adjoint Nullspace"
   ]
  },
  {
   "cell_type": "markdown",
   "id": "ba6b81a5",
   "metadata": {},
   "source": [
    "We seek $v_1, v_2 \\in L^2(\\mathbb{R})$ such that\n",
    "$$\n",
    "\\begin{align*}\n",
    "    -c \\mu v_1' &= v_1 - f'(U)Q \\bigg[ \\int_{\\mathbb{R}} w(y,\\xi) v_1(y) \\ dy - \\alpha \\beta v_2\\bigg] \\\\\n",
    "    -c \\alpha v_2' &= v_2 - f(U)\\bigg[ \\int_{\\mathbb{R}} w(y, \\xi) v_1(y) \\ dy - \\alpha \\beta v_2 \\bigg]\n",
    "\\end{align*}\n",
    "$$\n",
    "Rearranging, we have\n",
    "$$\n",
    "\\begin{align*}\n",
    "    v_1' + \\frac{1}{c\\mu} v_1 &= \\frac{1}{c\\mu}f'(U)Q \\bigg[ \\int_{\\mathbb{R}} w(y,\\xi) v_1(y) \\ dy - \\alpha \\beta v_2\\bigg] \\\\\n",
    "    v_2' + \\frac{1}{c\\alpha}v_2 &= \\frac{1}{c\\alpha}f(U)\\bigg[ \\int_{\\mathbb{R}} w(y, \\xi) v_1(y) \\ dy - \\alpha \\beta v_2 \\bigg]\n",
    "\\end{align*}\n",
    "$$\n",
    "Choosing $f(\\cdot) = H(\\cdot - \\theta)$ and $w(x,y) = \\tfrac{1}{2} e^{-|x - y|}$ we have\n",
    "$$\n",
    "\\begin{align*}\n",
    "    v_1' + \\frac{1}{c\\mu} v_1 &= \n",
    "        \\frac{1}{c\\mu}\\bigg( \\frac{\\delta(\\xi)}{|U'(0)|} + \\frac{\\delta(\\xi + \\Delta)}{|U'(-\\Delta)|} \\bigg)Q \\bigg[ \\int_{\\mathbb{R}} \\tfrac{1}{2} e^{-|y - \\xi|} v_1(y) \\ dy - \\alpha \\beta v_2\\bigg] \\\\\n",
    "    \\big[ e^{\\frac{1}{c\\mu} \\xi} v_1 \\big]' &=  \n",
    "         \\frac{1}{c\\mu}\\bigg( \\frac{\\delta(\\xi)}{|U'(0)|} + \\frac{\\delta(\\xi + \\Delta)}{|U'(-\\Delta)|} \\bigg)Q e^{\\frac{1}{c\\mu} \\xi} \\bigg[ \\int_{\\mathbb{R}} \\tfrac{1}{2} e^{-|y - \\xi|} v_1(y) \\ dy - \\alpha \\beta v_2\\bigg] \\\\\n",
    "    e^{\\frac{1}{c\\mu} \\xi} v_1 &= \n",
    "        A_{-\\infty} + \\frac{1}{c\\mu}\\frac{Q(0)}{|U'(0)|} \\bigg[ \\int_{\\mathbb{R}} \\tfrac{1}{2}e^{-|y|} v_1(y) \\ dy - \\alpha \\beta v_2(0) \\bigg] H(\\xi) + \\frac{1}{c\\mu} e^{-\\frac{\\Delta}{c\\mu}} \\frac{Q(-\\Delta)}{|U'(-\\Delta)|} \\bigg[ \\int_{\\mathbb{R}} \\tfrac{1}{2}e^{-|y + \\Delta|} v_1(y) \\ dy - \\alpha \\beta v_2(-\\Delta) \\bigg] H(\\xi + \\Delta) \\\\\n",
    "    v_1 &= \n",
    "        A_{-\\infty}e^{-\\frac{1}{c\\mu} \\xi}  + \\underbrace{\\frac{1}{c\\mu}\\frac{Q(0)}{|U'(0)|} \\bigg[ \\int_{\\mathbb{R}} \\tfrac{1}{2}e^{-|y|} v_1(y) \\ dy - \\alpha \\beta v_2(0) \\bigg]}_{A_{0}} e^{-\\frac{1}{c\\mu} \\xi} H(\\xi) + \\underbrace{\\frac{1}{c\\mu} e^{-\\frac{\\Delta}{c\\mu}} \\frac{Q(-\\Delta)}{|U'(-\\Delta)|} \\bigg[ \\int_{\\mathbb{R}} \\tfrac{1}{2}e^{-|y + \\Delta|} v_1(y) \\ dy - \\alpha \\beta v_2(-\\Delta) \\bigg]}_{A_{-\\Delta}} e^{-\\frac{1}{c\\mu} \\xi} H(\\xi + \\Delta) \\\\\n",
    "    v_1(\\xi) &= A_{-\\infty} e^{-\\frac{1}{c\\mu} \\xi} + A_{-\\Delta} e^{-\\frac{1}{c\\mu} \\xi} H(\\xi + \\Delta) + A_{0} e^{-\\frac{1}{c\\mu} \\xi}H(\\xi)\n",
    "\\end{align*}\n",
    "$$\n",
    "For $v_1$ to be bounded, we need $0 = \\lim\\limits_{\\xi \\to -\\infty} v_1(\\xi) \\implies A_{-\\infty} = 0$. This gives two consistency conditions\n",
    "$$\n",
    "\\begin{align*}\n",
    "    A_{-\\Delta} &= \\underbrace{\\frac{1}{c\\mu} e^{-\\frac{\\Delta}{c\\mu}} \\frac{Q(-\\Delta)}{|U'(-\\Delta)|}}_{D_{-\\Delta}} \\bigg[ \\int \\tfrac{1}{2}e^{-|y + \\Delta|} \\bigg( A_{-\\Delta} e^{-\\frac{1}{c\\mu} y} H(y + \\Delta) + A_{0} e^{-\\frac{1}{c\\mu} y}H(y) \\bigg) \\ dy - \\alpha \\beta v_2(-\\Delta) \\bigg] \\\\\n",
    "    A_{0} &= \\underbrace{\\frac{1}{c\\mu}\\frac{Q(0)}{|U'(0)|}}_{D_0} \\bigg[ \\int \\tfrac{1}{2}e^{-|y|} \\bigg( A_{-\\Delta} e^{-\\frac{1}{c\\mu} y} H(y + \\Delta) + A_{0} e^{-\\frac{1}{c\\mu} y}H(y) \\bigg) \\ dy - \\alpha \\beta v_2(0) \\bigg]\n",
    "\\end{align*}\n",
    "$$"
   ]
  },
  {
   "cell_type": "code",
   "execution_count": 8,
   "id": "51f0feee",
   "metadata": {},
   "outputs": [
    {
     "data": {
      "text/latex": [
       "$\\displaystyle 0 = \\frac{A_{0} D_{-\\Delta} \\mu c e^{\\frac{\\Delta}{\\mu c}}}{2 \\mu c e^{\\Delta} e^{\\frac{\\Delta}{\\mu c}} + 2 e^{\\Delta} e^{\\frac{\\Delta}{\\mu c}}} + A_{-\\Delta} \\left(\\frac{D_{-\\Delta} \\mu c e^{\\frac{\\Delta}{\\mu c}}}{2 \\mu c + 2} - 1\\right) - D_{-\\Delta} \\alpha \\beta \\operatorname{v_{2}}{\\left(- \\Delta \\right)}$"
      ],
      "text/plain": [
       "Eq(0, A_0*D_{-\\Delta}*\\mu*c*exp(\\Delta/(\\mu*c))/(2*\\mu*c*exp(\\Delta)*exp(\\Delta/(\\mu*c)) + 2*exp(\\Delta)*exp(\\Delta/(\\mu*c))) + A_{-\\Delta}*(D_{-\\Delta}*\\mu*c*exp(\\Delta/(\\mu*c))/(2*\\mu*c + 2) - 1) - D_{-\\Delta}*\\alpha*\\beta*v_2(-\\Delta))"
      ]
     },
     "metadata": {},
     "output_type": "display_data"
    },
    {
     "data": {
      "text/latex": [
       "$\\displaystyle 0 = A_{0} \\left(\\frac{D_{0} \\mu c}{2 \\mu c + 2} - 1\\right) + A_{-\\Delta} \\left(- \\frac{D_{0} \\mu c e^{\\frac{\\Delta}{\\mu c}}}{2 \\mu c e^{\\Delta} - 2 e^{\\Delta}} + \\frac{D_{0} \\mu c}{2 \\mu c + 2} + \\frac{D_{0} \\mu c}{2 \\mu c - 2}\\right) - D_{0} \\alpha \\beta \\operatorname{v_{2}}{\\left(0 \\right)}$"
      ],
      "text/plain": [
       "Eq(0, A_0*(D_0*\\mu*c/(2*\\mu*c + 2) - 1) + A_{-\\Delta}*(-D_0*\\mu*c*exp(\\Delta/(\\mu*c))/(2*\\mu*c*exp(\\Delta) - 2*exp(\\Delta)) + D_0*\\mu*c/(2*\\mu*c + 2) + D_0*\\mu*c/(2*\\mu*c - 2)) - D_0*\\alpha*\\beta*v_2(0))"
      ]
     },
     "metadata": {},
     "output_type": "display_data"
    }
   ],
   "source": [
    "Am, A0, Dm, D0 = sym.symbols('A_{-\\\\Delta} A_0 D_{-\\\\Delta} D_0', real=True)\n",
    "v1 = sym.Function('v_1')\n",
    "v2 = sym.Function('v_2')\n",
    "\n",
    "sub_dict[D0] = 1/c/μ * Q_mid.subs(ξ,0)/-U_mid.diff(ξ).subs(ξ, 0)\n",
    "sub_dict[Dm] = 1/c/μ *sym.exp(-Δ/c/μ) * Q_mid.subs(ξ,-Δ)/U_mid.diff(ξ).subs(ξ, -Δ)\n",
    "\n",
    "expr_dict['v1'] = sym.exp(-1/c/μ *ξ) * (Am*sym.Heaviside(ξ+Δ) + A0*sym.Heaviside(ξ))\n",
    "argm = sym.exp(-sym.Abs(y+Δ))/2 * expr_dict['v1'].subs(ξ, y)\n",
    "arg0 = sym.exp(-sym.Abs(y))/2 * expr_dict['v1'].subs(ξ, y)\n",
    "\n",
    "expr_m = Dm * ( sym.integrate( argm, (y, -sym.oo, sym.oo)) - α*β*v2(-Δ) ) - Am\n",
    "integral_expression = sym.integrate( arg0, (y, -sym.oo, sym.oo))\n",
    "#print('assume')\n",
    "#display(integral_expression.args[0].args[1])\n",
    "expr_0 = D0 * ( integral_expression.args[0].args[0] - α*β*v2(0) ) - A0\n",
    "\n",
    "expr_m = expr_m.expand().collect(Am).collect(A0)\n",
    "expr_0 = expr_0.expand().collect(Am).collect(A0)\n",
    "\n",
    "my_display(sym.Eq(0, expr_m))\n",
    "my_display(sym.Eq(0, expr_0))"
   ]
  },
  {
   "cell_type": "markdown",
   "id": "0f244879",
   "metadata": {},
   "source": [
    "Also,\n",
    "$$\\begin{align*}\n",
    "    v_2' + \\frac{1}{c\\alpha}v_2 &= \\frac{1}{c\\alpha}f(U)\\bigg[ \\int_{\\mathbb{R}} w(y, \\xi) v_1(y) \\ dy - \\alpha \\beta v_2 \\bigg]\n",
    "\\end{align*}$$\n",
    "and we have\n",
    "$$\\begin{align*}\n",
    "    v_2' + \\frac{1}{c\\alpha}v_2 &= 0, &\\text{ on } \\xi & \\not\\in (-\\Delta, 0) \\\\\n",
    "    c\\alpha v_2' + (1+\\alpha\\beta)v_2 &= \\int_{\\mathbb{R}} w(y, \\xi) v_1(y) \\ dy, & \\text{ on } \\xi & \\in (-\\Delta, 0)\n",
    "\\end{align*}$$"
   ]
  },
  {
   "cell_type": "code",
   "execution_count": 9,
   "id": "a2aca323",
   "metadata": {},
   "outputs": [
    {
     "name": "stdout",
     "output_type": "stream",
     "text": [
      "The rhs is then\n"
     ]
    },
    {
     "data": {
      "text/latex": [
       "$\\displaystyle A_{0} E_{0} e^{\\xi} + A_{-\\Delta} E_{1} e^{- \\xi} + A_{-\\Delta} E_{2} e^{- \\frac{\\xi}{\\mu c}}$"
      ],
      "text/plain": [
       "A_0*E_0*exp(\\xi) + A_{-\\Delta}*E_1*exp(-\\xi) + A_{-\\Delta}*E_2*exp(-\\xi/(\\mu*c))"
      ]
     },
     "metadata": {},
     "output_type": "display_data"
    },
    {
     "name": "stdout",
     "output_type": "stream",
     "text": [
      "for\n"
     ]
    },
    {
     "data": {
      "text/latex": [
       "$\\displaystyle E_{0} = \\frac{\\mu c}{2 \\left(\\mu c + 1\\right)}$"
      ],
      "text/plain": [
       "Eq(E_0, \\mu*c/(2*(\\mu*c + 1)))"
      ]
     },
     "metadata": {},
     "output_type": "display_data"
    },
    {
     "data": {
      "text/latex": [
       "$\\displaystyle E_{1} = - \\frac{\\mu c e^{- \\Delta + \\frac{\\Delta}{\\mu c}}}{2 \\mu c - 2}$"
      ],
      "text/plain": [
       "Eq(E_1, -\\mu*c*exp(-\\Delta + \\Delta/(\\mu*c))/(2*\\mu*c - 2))"
      ]
     },
     "metadata": {},
     "output_type": "display_data"
    },
    {
     "data": {
      "text/latex": [
       "$\\displaystyle E_{2} = \\frac{\\mu^{2} c^{2}}{\\mu^{2} c^{2} - 1}$"
      ],
      "text/plain": [
       "Eq(E_2, \\mu**2*c**2/(\\mu**2*c**2 - 1))"
      ]
     },
     "metadata": {},
     "output_type": "display_data"
    }
   ],
   "source": [
    "integral_expression =   Am/2*( sym.integrate(sym.exp(y-ξ) * sym.exp(-1/c/μ*y), (y, -Δ, ξ) ).args[0].args[0] +\\\n",
    "                               sym.integrate(sym.exp(ξ-y) * sym.exp(-1/c/μ*y), (y, ξ, sym.oo) ) ).expand().collect(sym.exp(ξ)).collect(sym.exp(ξ/μ/c)) + \\\n",
    "                        A0/2 * sym.integrate(sym.exp(ξ-y) * sym.exp(-1/c/μ*y), (y, 0, sym.oo))\n",
    "\n",
    "integral_expression = integral_expression.expand().collect(sym.exp(ξ)).collect(sym.exp(-ξ/μ/c))\n",
    "terms = [sym.exp(ξ), sym.exp(-ξ), sym.exp(-ξ/μ/c)]\n",
    "coeffs = [integral_expression.coeff(term) for term in terms]\n",
    "coeffs = [(coeff/my_A).simplify() for coeff, my_A in zip(coeffs, [A0, Am, Am])]\n",
    "terms = [term*my_A for term, my_A in zip(terms, [A0, Am, Am])]\n",
    "coeffs_sub = [sym.symbols(f'E_{i}', real=True) for i in range(len(terms))]\n",
    "# coeffs_sub_dict = {k:v for k, v in zip(coeffs_sub, coeffs)}\n",
    "sub_dict = {**sub_dict, **{k:v for k, v in zip(coeffs_sub, coeffs)} }\n",
    "integral_expression_sub = sum(term*coeff for term, coeff in zip(terms, coeffs_sub))\n",
    "assert 0 == (integral_expression - sum(term*coeff for term, coeff in zip(terms, coeffs))).simplify()\n",
    "assert 0 == (integral_expression - recursive_reduce(integral_expression_sub)).simplify()\n",
    "print('The rhs is then')\n",
    "my_display(integral_expression_sub)\n",
    "print('for')\n",
    "for k, v in zip(coeffs_sub, coeffs):\n",
    "    my_display(sym.Eq(k, v))"
   ]
  },
  {
   "cell_type": "code",
   "execution_count": 44,
   "id": "965874c6-8b00-4daf-a1b7-00cd67c55fe2",
   "metadata": {},
   "outputs": [],
   "source": [
    "test = sym.lambdify(ξ, integral_expression.subs(numeric_subs))"
   ]
  },
  {
   "cell_type": "code",
   "execution_count": 47,
   "id": "6195d30f-769b-47ef-b556-1204555dec52",
   "metadata": {},
   "outputs": [
    {
     "data": {
      "text/plain": [
       "{\\theta: 0.20000000000000000000000000000,\n",
       " \\alpha: 20.000000000000000000000000000,\n",
       " \\beta: 0.25000000000000000000000000000,\n",
       " \\mu: 1.0000000000000000000000000000,\n",
       " c: 1.030045435865679633038580345828761970112975895773849122249103539507323877180428183325981484882257842,\n",
       " \\Delta: 9.342632848278734582348146110265447239302673294271547765964725591050019234312324056202624227085276521,\n",
       " A_0: 1.0,\n",
       " A_{-\\Delta}: 2.5932613750149468e-08,\n",
       " C1: 9.612260700388624e-07}"
      ]
     },
     "execution_count": 47,
     "metadata": {},
     "output_type": "execute_result"
    }
   ],
   "source": [
    "numeric_subs"
   ]
  },
  {
   "cell_type": "code",
   "execution_count": 54,
   "id": "10ce559a-bb6d-48ca-a01b-ee25cba4434d",
   "metadata": {},
   "outputs": [],
   "source": [
    "x_test = np.linspace(-10, 0)"
   ]
  },
  {
   "cell_type": "code",
   "execution_count": 56,
   "id": "06af7d60-f82c-40b3-9e5f-bbb69db2c69f",
   "metadata": {},
   "outputs": [
    {
     "data": {
      "text/plain": [
       "[<matplotlib.lines.Line2D at 0x7f891d59f400>]"
      ]
     },
     "execution_count": 56,
     "metadata": {},
     "output_type": "execute_result"
    },
    {
     "data": {
      "image/png": "[encoded data removed]",
      "text/plain": [
       "<Figure size 432x288 with 1 Axes>"
      ]
     },
     "metadata": {
      "needs_background": "light"
     },
     "output_type": "display_data"
    }
   ],
   "source": [
    "plt.plot(x_test, test(x_test))"
   ]
  },
  {
   "cell_type": "code",
   "execution_count": null,
   "id": "6f15e584-6809-4ec7-bde9-1d2d65b6400b",
   "metadata": {},
   "outputs": [],
   "source": []
  },
  {
   "cell_type": "code",
   "execution_count": 11,
   "id": "3f4f38c5",
   "metadata": {},
   "outputs": [],
   "source": [
    "v2_mid = sym.dsolve( c*α*v2(ξ).diff(ξ) + (1+α*β)*v2(ξ) - integral_expression_sub, func=v2(ξ),\n",
    "                     hint='nth_linear_constant_coeff_undetermined_coefficients').args[1]\n",
    "C1 = sym.symbols('C1')"
   ]
  },
  {
   "cell_type": "code",
   "execution_count": 12,
   "id": "2b0819ca",
   "metadata": {},
   "outputs": [
    {
     "data": {
      "text/latex": [
       "$\\displaystyle \\frac{A_{0} E_{0} e^{\\xi}}{\\alpha \\beta + \\alpha c + 1} - \\frac{A_{-\\Delta} E_{1} e^{- \\xi}}{- \\alpha \\beta + \\alpha c - 1} + \\frac{A_{-\\Delta} E_{2} \\mu e^{- \\frac{\\xi}{\\mu c}}}{\\alpha \\beta \\mu - \\alpha + \\mu} + C_{1} e^{\\frac{\\xi \\left(- \\beta - \\frac{1}{\\alpha}\\right)}{c}}$"
      ],
      "text/plain": [
       "A_0*E_0*exp(\\xi)/(\\alpha*\\beta + \\alpha*c + 1) - A_{-\\Delta}*E_1*exp(-\\xi)/(-\\alpha*\\beta + \\alpha*c - 1) + A_{-\\Delta}*E_2*\\mu*exp(-\\xi/(\\mu*c))/(\\alpha*\\beta*\\mu - \\alpha + \\mu) + C1*exp(\\xi*(-\\beta - 1/\\alpha)/c)"
      ]
     },
     "metadata": {},
     "output_type": "display_data"
    }
   ],
   "source": [
    "my_display(v2_mid)"
   ]
  },
  {
   "cell_type": "code",
   "execution_count": 13,
   "id": "74cc0e96",
   "metadata": {},
   "outputs": [
    {
     "data": {
      "text/latex": [
       "$\\displaystyle 0 = \\frac{A_{0} D_{-\\Delta} \\mu c e^{\\frac{\\Delta}{\\mu c}}}{2 \\mu c e^{\\Delta} e^{\\frac{\\Delta}{\\mu c}} + 2 e^{\\Delta} e^{\\frac{\\Delta}{\\mu c}}} + A_{-\\Delta} \\left(\\frac{D_{-\\Delta} \\mu c e^{\\frac{\\Delta}{\\mu c}}}{2 \\mu c + 2} - 1\\right)$"
      ],
      "text/plain": [
       "Eq(0, A_0*D_{-\\Delta}*\\mu*c*exp(\\Delta/(\\mu*c))/(2*\\mu*c*exp(\\Delta)*exp(\\Delta/(\\mu*c)) + 2*exp(\\Delta)*exp(\\Delta/(\\mu*c))) + A_{-\\Delta}*(D_{-\\Delta}*\\mu*c*exp(\\Delta/(\\mu*c))/(2*\\mu*c + 2) - 1))"
      ]
     },
     "metadata": {},
     "output_type": "display_data"
    },
    {
     "data": {
      "text/latex": [
       "$\\displaystyle 0 = A_{0} \\left(- \\frac{D_{0} E_{0} \\alpha \\beta}{\\alpha \\beta + \\alpha c + 1} + \\frac{D_{0} \\mu c}{2 \\mu c + 2} - 1\\right) + A_{-\\Delta} \\left(\\frac{D_{0} E_{1} \\alpha \\beta}{- \\alpha \\beta + \\alpha c - 1} - \\frac{D_{0} E_{2} \\alpha \\beta \\mu}{\\alpha \\beta \\mu - \\alpha + \\mu} - \\frac{D_{0} \\mu c e^{\\frac{\\Delta}{\\mu c}}}{2 \\mu c e^{\\Delta} - 2 e^{\\Delta}} + \\frac{D_{0} \\mu c}{2 \\mu c + 2} + \\frac{D_{0} \\mu c}{2 \\mu c - 2}\\right) - C_{1} D_{0} \\alpha \\beta$"
      ],
      "text/plain": [
       "Eq(0, A_0*(-D_0*E_0*\\alpha*\\beta/(\\alpha*\\beta + \\alpha*c + 1) + D_0*\\mu*c/(2*\\mu*c + 2) - 1) + A_{-\\Delta}*(D_0*E_1*\\alpha*\\beta/(-\\alpha*\\beta + \\alpha*c - 1) - D_0*E_2*\\alpha*\\beta*\\mu/(\\alpha*\\beta*\\mu - \\alpha + \\mu) - D_0*\\mu*c*exp(\\Delta/(\\mu*c))/(2*\\mu*c*exp(\\Delta) - 2*exp(\\Delta)) + D_0*\\mu*c/(2*\\mu*c + 2) + D_0*\\mu*c/(2*\\mu*c - 2)) - C1*D_0*\\alpha*\\beta)"
      ]
     },
     "metadata": {},
     "output_type": "display_data"
    },
    {
     "data": {
      "text/latex": [
       "$\\displaystyle 0 = \\frac{A_{0} E_{0}}{\\alpha \\beta e^{\\Delta} + \\alpha c e^{\\Delta} + e^{\\Delta}} + A_{-\\Delta} \\left(- \\frac{E_{1} e^{\\Delta}}{- \\alpha \\beta + \\alpha c - 1} + \\frac{E_{2} \\mu e^{\\frac{\\Delta}{\\mu c}}}{\\alpha \\beta \\mu - \\alpha + \\mu}\\right) + C_{1} e^{\\frac{\\Delta}{\\alpha c}} e^{\\frac{\\Delta \\beta}{c}}$"
      ],
      "text/plain": [
       "Eq(0, A_0*E_0/(\\alpha*\\beta*exp(\\Delta) + \\alpha*c*exp(\\Delta) + exp(\\Delta)) + A_{-\\Delta}*(-E_1*exp(\\Delta)/(-\\alpha*\\beta + \\alpha*c - 1) + E_2*\\mu*exp(\\Delta/(\\mu*c))/(\\alpha*\\beta*\\mu - \\alpha + \\mu)) + C1*exp(\\Delta/(\\alpha*c))*exp(\\Delta*\\beta/c))"
      ]
     },
     "metadata": {},
     "output_type": "display_data"
    }
   ],
   "source": [
    "expr_v2 = v2_mid.subs(ξ, -Δ).expand().collect(A0).collect(Am).collect(C1)\n",
    "expr_m = expr_m.subs(v2(-Δ), 0)\n",
    "expr_0 = expr_0.subs(v2(0), v2_mid.subs(ξ,0)).expand().collect(A0).collect(Am).collect(C1)\n",
    "conditions = (expr_m, expr_0, expr_v2)\n",
    "for condition in conditions:\n",
    "    my_display(sym.Eq(0, condition))\n",
    "    \n",
    "expr_dict['adjoint_nullspace_conditions'] = conditions"
   ]
  },
  {
   "cell_type": "code",
   "execution_count": 14,
   "id": "c0d3ddc6",
   "metadata": {},
   "outputs": [],
   "source": [
    "expr_dict['v2'] = sym.Piecewise(\n",
    "                    (0, ξ< - Δ),\n",
    "                    (v2_mid, ξ<0),\n",
    "                    (v2_mid.subs(ξ, 0)*sym.exp(-1/c/α * ξ), True)\n",
    "                )"
   ]
  },
  {
   "cell_type": "code",
   "execution_count": 15,
   "id": "75999552-af27-4d6a-9ee5-98f73bd51f8c",
   "metadata": {},
   "outputs": [
    {
     "data": {
      "text/latex": [
       "$\\displaystyle \\begin{cases} 0 & \\text{for}\\: \\Delta < - \\xi \\\\\\frac{A_{0} E_{0} e^{\\xi}}{\\alpha \\beta + \\alpha c + 1} - \\frac{A_{-\\Delta} E_{1} e^{- \\xi}}{- \\alpha \\beta + \\alpha c - 1} + \\frac{A_{-\\Delta} E_{2} \\mu e^{- \\frac{\\xi}{\\mu c}}}{\\alpha \\beta \\mu - \\alpha + \\mu} + C_{1} e^{\\frac{\\xi \\left(- \\beta - \\frac{1}{\\alpha}\\right)}{c}} & \\text{for}\\: \\xi < 0 \\\\\\left(\\frac{A_{0} E_{0}}{\\alpha \\beta + \\alpha c + 1} - \\frac{A_{-\\Delta} E_{1}}{- \\alpha \\beta + \\alpha c - 1} + \\frac{A_{-\\Delta} E_{2} \\mu}{\\alpha \\beta \\mu - \\alpha + \\mu} + C_{1}\\right) e^{- \\frac{\\xi}{\\alpha c}} & \\text{otherwise} \\end{cases}$"
      ],
      "text/plain": [
       "Piecewise((0, \\Delta < -\\xi), (A_0*E_0*exp(\\xi)/(\\alpha*\\beta + \\alpha*c + 1) - A_{-\\Delta}*E_1*exp(-\\xi)/(-\\alpha*\\beta + \\alpha*c - 1) + A_{-\\Delta}*E_2*\\mu*exp(-\\xi/(\\mu*c))/(\\alpha*\\beta*\\mu - \\alpha + \\mu) + C1*exp(\\xi*(-\\beta - 1/\\alpha)/c), \\xi < 0), ((A_0*E_0/(\\alpha*\\beta + \\alpha*c + 1) - A_{-\\Delta}*E_1/(-\\alpha*\\beta + \\alpha*c - 1) + A_{-\\Delta}*E_2*\\mu/(\\alpha*\\beta*\\mu - \\alpha + \\mu) + C1)*exp(-\\xi/(\\alpha*c)), True))"
      ]
     },
     "metadata": {},
     "output_type": "display_data"
    }
   ],
   "source": [
    "my_display(expr_dict['v2'])"
   ]
  },
  {
   "cell_type": "markdown",
   "id": "e0e98962-1e9c-47bf-9c4e-8ca9a5de035a",
   "metadata": {},
   "source": [
    "## get numerical parameters"
   ]
  },
  {
   "cell_type": "code",
   "execution_count": 16,
   "id": "e0a22ee7",
   "metadata": {},
   "outputs": [
    {
     "name": "stdout",
     "output_type": "stream",
     "text": [
      "\\theta = 0.20000000000000000000000000000\n",
      "\\alpha = 20.000000000000000000000000000\n",
      "\\beta = 0.25000000000000000000000000000\n",
      "\\mu = 1.0000000000000000000000000000\n",
      "c = 1.030045435865679633038580345828761970112975895773849122249103539507323877180428183325981484882257842\n",
      "\\Delta = 9.342632848278734582348146110265447239302673294271547765964725591050019234312324056202624227085276521\n"
     ]
    }
   ],
   "source": [
    "import helper_symbolics\n",
    "params = {\n",
    "    'theta': 0.2,\n",
    "    'alpha': 20,\n",
    "    'beta': .25,\n",
    "    'mu': 1.0\n",
    "}\n",
    "\n",
    "precision = 100\n",
    "numeric_subs = helper_symbolics.get_speed_and_width(params, precision=precision)\n",
    "# c = float([v for k, v in numerical_params.items() if str(k) == 'c'][0])\n",
    "# pulse_width = float([v for k, v in numerical_params.items() if str(k) == '\\\\Delta'][0])\n",
    "for k, v in numeric_subs.items():\n",
    "    print(f'{k} = {v}')\n",
    "\n",
    "# U_numeric, Q_numeric, *_ = helper_symbolics.get_traveling_pulse(numerical_params, precision=precision, validate=False)"
   ]
  },
  {
   "cell_type": "code",
   "execution_count": 17,
   "id": "53e2d258",
   "metadata": {},
   "outputs": [
    {
     "data": {
      "text/latex": [
       "$\\displaystyle 0 = 0.000000007258392580672051770556812345989301245290184103747722438113897057643816583319894234489587078070128743 A_{0} - 0.2798943697154407293602974780311702204388083502965224877915423907057883472536506375784921485752654356 A_{-\\Delta}$"
      ],
      "text/plain": [
       "Eq(0, 0.000000007258392580672051770556812345989301245290184103747722438113897057643816583319894234489587078070128743*A_0 - 0.2798943697154407293602974780311702204388083502965224877915423907057883472536506375784921485752654356*A_{-\\Delta})"
      ]
     },
     "metadata": {},
     "output_type": "display_data"
    },
    {
     "name": "stdout",
     "output_type": "stream",
     "text": [
      "\n"
     ]
    },
    {
     "data": {
      "text/latex": [
       "$\\displaystyle 0 = 0.00002256366768391556194149647770244686089860535465357733756112308308724105452730807833803563507258265327 A_{0} + 29.53936874874861670909134119795351046221431480864659467935516564429418368036734258052000891641018677 A_{-\\Delta} - 24.27077401589502239418952037992012161717854845527239171162230343769918280642384805277039180397153573 C_{1}$"
      ],
      "text/plain": [
       "Eq(0, 0.00002256366768391556194149647770244686089860535465357733756112308308724105452730807833803563507258265327*A_0 + 29.53936874874861670909134119795351046221431480864659467935516564429418368036734258052000891641018677*A_{-\\Delta} - 24.27077401589502239418952037992012161717854845527239171162230343769918280642384805277039180397153573*C1)"
      ]
     },
     "metadata": {},
     "output_type": "display_data"
    },
    {
     "name": "stdout",
     "output_type": "stream",
     "text": [
      "\n"
     ]
    },
    {
     "data": {
      "text/latex": [
       "$\\displaystyle 0 = 0.0000008355458044680727405609421260836843767836801988246192921442383633156143859914378928170301006017330077 A_{0} - 595.4810469301366728439836012551744335144087370266484077901298081848274160458585391520596286684399211 A_{-\\Delta} + 15.19604454810015047867319336650438168607406900127447396846477878845034695760856572725156004353798691 C_{1}$"
      ],
      "text/plain": [
       "Eq(0, 0.0000008355458044680727405609421260836843767836801988246192921442383633156143859914378928170301006017330077*A_0 - 595.4810469301366728439836012551744335144087370266484077901298081848274160458585391520596286684399211*A_{-\\Delta} + 15.19604454810015047867319336650438168607406900127447396846477878845034695760856572725156004353798691*C1)"
      ]
     },
     "metadata": {},
     "output_type": "display_data"
    },
    {
     "name": "stdout",
     "output_type": "stream",
     "text": [
      "\n"
     ]
    }
   ],
   "source": [
    "numerical_conditions = []\n",
    "for condition in conditions:\n",
    "    condition = recursive_reduce(condition).evalf(precision, subs=numeric_subs)\n",
    "    #print(condition.free_symbols)\n",
    "    display(sym.Eq(0, condition))\n",
    "    print()\n",
    "    numerical_conditions.append(condition)"
   ]
  },
  {
   "cell_type": "code",
   "execution_count": 18,
   "id": "293801a3",
   "metadata": {},
   "outputs": [],
   "source": [
    "my_vars = [A0, Am, C1]\n",
    "M = sym.Matrix([\n",
    "    [condition.coeff(v) for v in my_vars] for condition in numerical_conditions\n",
    "])"
   ]
  },
  {
   "cell_type": "code",
   "execution_count": 19,
   "id": "bd189f68",
   "metadata": {},
   "outputs": [
    {
     "data": {
      "text/latex": [
       "$\\displaystyle \\left[\\begin{matrix}0.000000007258392580672051770556812345989301245290184103747722438113897057643816583319894234489587078070128743 & -0.2798943697154407293602974780311702204388083502965224877915423907057883472536506375784921485752654356 & 0\\\\0.00002256366768391556194149647770244686089860535465357733756112308308724105452730807833803563507258265327 & 29.53936874874861670909134119795351046221431480864659467935516564429418368036734258052000891641018677 & -24.27077401589502239418952037992012161717854845527239171162230343769918280642384805277039180397153573\\\\0.0000008355458044680727405609421260836843767836801988246192921442383633156143859914378928170301006017330077 & -595.4810469301366728439836012551744335144087370266484077901298081848274160458585391520596286684399211 & 15.19604454810015047867319336650438168607406900127447396846477878845034695760856572725156004353798691\\end{matrix}\\right]$"
      ],
      "text/plain": [
       "Matrix([\n",
       "[0.000000007258392580672051770556812345989301245290184103747722438113897057643816583319894234489587078070128743, -0.2798943697154407293602974780311702204388083502965224877915423907057883472536506375784921485752654356,                                                                                                      0],\n",
       "[    0.00002256366768391556194149647770244686089860535465357733756112308308724105452730807833803563507258265327,   29.53936874874861670909134119795351046221431480864659467935516564429418368036734258052000891641018677, -24.27077401589502239418952037992012161717854845527239171162230343769918280642384805277039180397153573],\n",
       "[  0.0000008355458044680727405609421260836843767836801988246192921442383633156143859914378928170301006017330077,  -595.4810469301366728439836012551744335144087370266484077901298081848274160458585391520596286684399211,  15.19604454810015047867319336650438168607406900127447396846477878845034695760856572725156004353798691]])"
      ]
     },
     "execution_count": 19,
     "metadata": {},
     "output_type": "execute_result"
    }
   ],
   "source": [
    "M"
   ]
  },
  {
   "cell_type": "raw",
   "id": "4281aa44-58fd-4e82-8782-e2d4d2a6e9ba",
   "metadata": {},
   "source": [
    "[[ 7.25690286e-09 -2.79876430e-01  0.00000000e+00]\n",
    " [ 2.20206379e-01  2.14909383e+01 -2.42698446e+01]\n",
    " [ 8.35515057e-07 -5.95842497e+02  1.51967999e+01]]"
   ]
  },
  {
   "cell_type": "code",
   "execution_count": 22,
   "id": "de804b63-8185-449b-8320-1c276ddf2273",
   "metadata": {},
   "outputs": [
    {
     "data": {
      "text/latex": [
       "$\\displaystyle -0.000000000000000000000000000003813829961580404316756884375214968495069494200196683965441082701523107364293694859652781415120432303$"
      ],
      "text/plain": [
       "-0.000000000000000000000000000003813829961580404316756884375214968495069494200196683965441082701523107364293694859652781415120432303"
      ]
     },
     "execution_count": 22,
     "metadata": {},
     "output_type": "execute_result"
    }
   ],
   "source": [
    "M.det()"
   ]
  },
  {
   "cell_type": "code",
   "execution_count": 23,
   "id": "d5fa3e7d",
   "metadata": {},
   "outputs": [
    {
     "name": "stdout",
     "output_type": "stream",
     "text": [
      "cond = inf\n",
      "[  0.         142.80116816 -98.06575486]\n",
      "[1.00000000e+00 2.59326138e-08 9.61226070e-07]\n"
     ]
    },
    {
     "data": {
      "text/latex": [
       "$\\displaystyle \\lambda = 0.0$"
      ],
      "text/plain": [
       "Eq(\\lambda, 0.0)"
      ]
     },
     "metadata": {},
     "output_type": "display_data"
    },
    {
     "name": "stdout",
     "output_type": "stream",
     "text": [
      "[[ 1.00000000e+00  4.10689250e-04  5.33304553e-04]\n",
      " [ 2.59326138e-08 -2.09532277e-01  1.86852324e-01]\n",
      " [ 9.61226070e-07  9.77801645e-01  9.82387869e-01]]\n"
     ]
    }
   ],
   "source": [
    "M_ndarray = np.array(M, dtype=float)\n",
    "print(f'cond = {la.cond(M_ndarray):.5g}')\n",
    "eigen_vals, eigen_vect_mat = la.eig(M_ndarray)\n",
    "eigen_val, eigen_vect = sorted(zip(eigen_vals, eigen_vect_mat.T), key=lambda tup: abs(tup[0]))[0]\n",
    "eigen_vect /= eigen_vect[0]\n",
    "print(eigen_vals)\n",
    "print(eigen_vect)\n",
    "display(sym.Eq(sym.symbols('\\\\lambda'), eigen_val))\n",
    "for var, sub in zip(my_vars, eigen_vect.real):\n",
    "    numeric_subs[var] = sub\n",
    "print(eigen_vect_mat)"
   ]
  },
  {
   "cell_type": "code",
   "execution_count": 24,
   "id": "5cf21629-211d-4dbf-8e5f-986922468ab5",
   "metadata": {},
   "outputs": [
    {
     "data": {
      "text/plain": [
       "{\\theta: 0.20000000000000000000000000000,\n",
       " \\alpha: 20.000000000000000000000000000,\n",
       " \\beta: 0.25000000000000000000000000000,\n",
       " \\mu: 1.0000000000000000000000000000,\n",
       " c: 1.030045435865679633038580345828761970112975895773849122249103539507323877180428183325981484882257842,\n",
       " \\Delta: 9.342632848278734582348146110265447239302673294271547765964725591050019234312324056202624227085276521,\n",
       " A_0: 1.0,\n",
       " A_{-\\Delta}: 2.5932613750149468e-08,\n",
       " C1: 9.612260700388624e-07}"
      ]
     },
     "execution_count": 24,
     "metadata": {},
     "output_type": "execute_result"
    }
   ],
   "source": [
    "numeric_subs"
   ]
  },
  {
   "cell_type": "code",
   "execution_count": 25,
   "id": "6c7dcda7-66f4-4567-a61d-429be08c8523",
   "metadata": {},
   "outputs": [
    {
     "data": {
      "text/plain": [
       "2.5932613750149468e-08"
      ]
     },
     "execution_count": 25,
     "metadata": {},
     "output_type": "execute_result"
    }
   ],
   "source": [
    "numeric_subs[Am]"
   ]
  },
  {
   "cell_type": "code",
   "execution_count": 26,
   "id": "c69cfa53-7aa5-4638-958f-3705f7ee1bfa",
   "metadata": {},
   "outputs": [
    {
     "data": {
      "text/plain": [
       "array([[ 1.000e+00,  4.000e-04,  5.000e-04],\n",
       "       [ 0.000e+00, -2.095e-01,  1.869e-01],\n",
       "       [ 0.000e+00,  9.778e-01,  9.824e-01]])"
      ]
     },
     "execution_count": 26,
     "metadata": {},
     "output_type": "execute_result"
    }
   ],
   "source": [
    "np.round(eigen_vect_mat, 4)"
   ]
  },
  {
   "cell_type": "code",
   "execution_count": 27,
   "id": "e9cf476c-5982-4332-9867-d8e933892b78",
   "metadata": {},
   "outputs": [
    {
     "data": {
      "text/latex": [
       "$\\displaystyle \\left(1.0 \\theta\\left(\\xi\\right) + 2.59326137501495 \\cdot 10^{-8} \\theta\\left(\\xi + 9.342632848278734582348146110265447239302673294271547765964725591050019234312324056202624227085276521\\right)\\right) e^{- 0.9708309606358008957675808151979732710609567124303613072534000631302004749911450258222324782819382615 \\xi}$"
      ],
      "text/plain": [
       "(1.0*Heaviside(\\xi) + 2.59326137501495e-8*Heaviside(\\xi + 9.342632848278734582348146110265447239302673294271547765964725591050019234312324056202624227085276521))*exp(-0.9708309606358008957675808151979732710609567124303613072534000631302004749911450258222324782819382615*\\xi)"
      ]
     },
     "execution_count": 27,
     "metadata": {},
     "output_type": "execute_result"
    }
   ],
   "source": [
    "expr_dict['v1'].evalf(subs=numeric_subs)"
   ]
  },
  {
   "cell_type": "code",
   "execution_count": 28,
   "id": "c070ff7b-adf8-4c23-b225-9b426ee01299",
   "metadata": {},
   "outputs": [],
   "source": [
    "test_subs = {**numeric_subs, A0: A0, Am: Am, C1:C1}"
   ]
  },
  {
   "cell_type": "code",
   "execution_count": 29,
   "id": "00f1a45e-5c14-4b69-a038-901158187e15",
   "metadata": {},
   "outputs": [
    {
     "data": {
      "text/latex": [
       "$\\displaystyle 0.0095373 A_{0} e^{\\xi} + 0.89396 A_{-\\Delta} e^{- \\xi} - 1.2425 A_{-\\Delta} e^{- 0.9708309606358008957675808151979732710609567124303613072534000631302004749911450258222324782819382615 \\xi} + C_{1} e^{- 0.2912492881907402687302742445595451514363717622037873412987573405915948520928810276679107226603692338 \\xi}$"
      ],
      "text/plain": [
       "0.0095373*A_0*exp(\\xi) + 0.89396*A_{-\\Delta}*exp(-\\xi) - 1.2425*A_{-\\Delta}*exp(-0.9708309606358008957675808151979732710609567124303613072534000631302004749911450258222324782819382615*\\xi) + C1*exp(-0.2912492881907402687302742445595451514363717622037873412987573405915948520928810276679107226603692338*\\xi)"
      ]
     },
     "execution_count": 29,
     "metadata": {},
     "output_type": "execute_result"
    }
   ],
   "source": [
    "recursive_reduce(v2_mid).subs(test_subs).evalf(5)"
   ]
  },
  {
   "cell_type": "code",
   "execution_count": 30,
   "id": "050c9cde-8d72-4c40-bdf6-d2177cd31551",
   "metadata": {},
   "outputs": [
    {
     "data": {
      "text/plain": [
       "array([1.00000000e+00, 2.59326138e-08, 9.61226070e-07])"
      ]
     },
     "execution_count": 30,
     "metadata": {},
     "output_type": "execute_result"
    }
   ],
   "source": [
    "eigen_vect.real"
   ]
  },
  {
   "cell_type": "markdown",
   "id": "e6180dc1",
   "metadata": {},
   "source": [
    "# Plot nullspace basis"
   ]
  },
  {
   "cell_type": "code",
   "execution_count": 31,
   "id": "68e0df32",
   "metadata": {},
   "outputs": [
    {
     "data": {
      "text/latex": [
       "$\\displaystyle \\left(1.0 \\theta\\left(\\xi\\right) + 0.00000002593261375014946803181114013368835369277576319291256368160247802734375 \\theta\\left(\\xi + 9.342632848278734582348146110265447239302673294271547765964725591050019234312324056202624227085276521\\right)\\right) e^{- 0.9708309606358008957675808151979732710609567124303613072534000631302004749911450258222324782819382615 \\xi}$"
      ],
      "text/plain": [
       "(1.0*Heaviside(\\xi) + 0.00000002593261375014946803181114013368835369277576319291256368160247802734375*Heaviside(\\xi + 9.342632848278734582348146110265447239302673294271547765964725591050019234312324056202624227085276521))*exp(-0.9708309606358008957675808151979732710609567124303613072534000631302004749911450258222324782819382615*\\xi)"
      ]
     },
     "execution_count": 31,
     "metadata": {},
     "output_type": "execute_result"
    }
   ],
   "source": [
    "recursive_reduce(expr_dict['v1']).evalf(precision, subs=numeric_subs)"
   ]
  },
  {
   "cell_type": "code",
   "execution_count": 32,
   "id": "b916e4f3",
   "metadata": {},
   "outputs": [],
   "source": [
    "v1_numeric = sym.lambdify(ξ, recursive_reduce(expr_dict['v1']).evalf(precision, subs=numeric_subs), modules=sympy_modules)\n",
    "v2_numeric = sym.lambdify(ξ, recursive_reduce(expr_dict['v2']).evalf(precision, subs=numeric_subs), modules=sympy_modules)"
   ]
  },
  {
   "cell_type": "code",
   "execution_count": 33,
   "id": "3ffb892c",
   "metadata": {},
   "outputs": [
    {
     "data": {
      "text/plain": [
       "(-0.1, 1)"
      ]
     },
     "execution_count": 33,
     "metadata": {},
     "output_type": "execute_result"
    },
    {
     "data": {
      "image/png": "[encoded data removed]",
      "text/plain": [
       "<Figure size 432x288 with 1 Axes>"
      ]
     },
     "metadata": {
      "needs_background": "light"
     },
     "output_type": "display_data"
    }
   ],
   "source": [
    "zs = np.linspace(-20, 20, 201)\n",
    "plt.plot(zs, v1_numeric(zs))\n",
    "plt.plot(zs, v2_numeric(zs))\n",
    "plt.ylim(-.1, 1)"
   ]
  },
  {
   "cell_type": "markdown",
   "id": "65448206",
   "metadata": {},
   "source": [
    "# Save Expressions"
   ]
  },
  {
   "cell_type": "code",
   "execution_count": 34,
   "id": "08652d4f",
   "metadata": {},
   "outputs": [],
   "source": [
    "expr_dict['sub_dict'] = sub_dict\n",
    "with open(file_name, 'wb') as f:\n",
    "    pickle.dump(expr_dict, f)"
   ]
  },
  {
   "cell_type": "markdown",
   "id": "b109375c",
   "metadata": {},
   "source": [
    "# Test Saved Expressions"
   ]
  },
  {
   "cell_type": "code",
   "execution_count": 35,
   "id": "53cc8152",
   "metadata": {},
   "outputs": [],
   "source": [
    "import helper_symbolics\n",
    "params = {\n",
    "    'theta': 0.2,\n",
    "    'alpha': 20,\n",
    "    'beta': .25,\n",
    "    'mu': 1.0\n",
    "}\n",
    "precision = 15\n",
    "U_numeric, Q_numeric, *_ = helper_symbolics.get_traveling_pulse(params, precision=precision)"
   ]
  },
  {
   "cell_type": "code",
   "execution_count": 37,
   "id": "30214ed7-e1a6-452a-9383-ecf2cc8209b4",
   "metadata": {},
   "outputs": [
    {
     "data": {
      "text/plain": [
       "{\\theta: 0.2000,\n",
       " \\alpha: 20.00,\n",
       " \\beta: 0.2500,\n",
       " \\mu: 1.000,\n",
       " c: 1.03002856613383,\n",
       " \\Delta: 9.34267426461180}"
      ]
     },
     "execution_count": 37,
     "metadata": {},
     "output_type": "execute_result"
    }
   ],
   "source": [
    "helper_symbolics.get_speed_and_width(params, precision)"
   ]
  },
  {
   "cell_type": "code",
   "execution_count": 39,
   "id": "031f163f",
   "metadata": {},
   "outputs": [
    {
     "data": {
      "image/png": "[encoded data removed]",
      "text/plain": [
       "<Figure size 864x576 with 1 Axes>"
      ]
     },
     "metadata": {
      "needs_background": "light"
     },
     "output_type": "display_data"
    }
   ],
   "source": [
    "xs = np.linspace(-20,10, 200)\n",
    "plt.figure(figsize=(12,8))\n",
    "plt.plot(xs, U_numeric(xs), 'b-', label='$U(\\\\xi)$')\n",
    "plt.plot(xs, Q_numeric(xs), 'g-', label='$Q(\\\\xi)$')\n",
    "plt.plot(xs, float(params['theta']) + 0*xs, 'k:', label='$\\\\theta$', linewidth=3)\n",
    "plt.legend()\n",
    "plt.title('Traveling Pulse Solution')\n",
    "plt.xlabel('$\\\\xi$')\n",
    "plt.show()"
   ]
  },
  {
   "cell_type": "code",
   "execution_count": 40,
   "id": "c56e711a",
   "metadata": {},
   "outputs": [
    {
     "data": {
      "text/latex": [
       "$\\displaystyle \\left[\\begin{matrix}7.25690285987648 \\cdot 10^{-9} & -0.27987642967906 & 0\\\\-2.67356856856193 \\cdot 10^{-5} & 29.5407497267914 & -24.2698445651184\\\\8.35515056607468 \\cdot 10^{-7} & -595.842496727148 & 15.1967999241667\\end{matrix}\\right]$"
      ],
      "text/plain": [
       "Matrix([\n",
       "[ 7.25690285987648e-9, -0.27987642967906,                 0],\n",
       "[-2.67356856856193e-5,  29.5407497267914, -24.2698445651184],\n",
       "[ 8.35515056607468e-7, -595.842496727148,  15.1967999241667]])"
      ]
     },
     "metadata": {},
     "output_type": "display_data"
    },
    {
     "name": "stdout",
     "output_type": "stream",
     "text": [
      "[[ 7.25690286e-09 -2.79876430e-01  0.00000000e+00]\n",
      " [-2.67356857e-05  2.95407497e+01 -2.42698446e+01]\n",
      " [ 8.35515057e-07 -5.95842497e+02  1.51967999e+01]]\n"
     ]
    }
   ],
   "source": [
    "v1_numeric, v2_numeric = helper_symbolics.get_adjoint_nullspace(params, precision=precision)"
   ]
  },
  {
   "cell_type": "code",
   "execution_count": 41,
   "id": "af8127f4",
   "metadata": {},
   "outputs": [
    {
     "data": {
      "image/png": "[encoded data removed]",
      "text/plain": [
       "<Figure size 720x360 with 1 Axes>"
      ]
     },
     "metadata": {
      "needs_background": "light"
     },
     "output_type": "display_data"
    }
   ],
   "source": [
    "xs = np.linspace(-20, 20, 201)\n",
    "plt.figure(figsize=(10, 5))\n",
    "plt.plot(xs, v1_numeric(xs), 'b-', label='$v_1$')\n",
    "plt.plot(xs, v2_numeric(xs), 'g-', label='$v_2$')\n",
    "plt.ylim(-.1, .1)\n",
    "plt.legend()\n",
    "plt.title('Nullspace')\n",
    "plt.show()"
   ]
  },
  {
   "cell_type": "code",
   "execution_count": 42,
   "id": "f34112bf",
   "metadata": {},
   "outputs": [
    {
     "data": {
      "text/latex": [
       "$\\displaystyle \\left[\\begin{matrix}7.25690285987648 \\cdot 10^{-9} & -0.27987642967906 & 0\\\\-2.67356856856193 \\cdot 10^{-5} & 29.5407497267914 & -24.2698445651184\\\\8.35515056607468 \\cdot 10^{-7} & -595.842496727148 & 15.1967999241667\\end{matrix}\\right]$"
      ],
      "text/plain": [
       "Matrix([\n",
       "[ 7.25690285987648e-9, -0.27987642967906,                 0],\n",
       "[-2.67356856856193e-5,  29.5407497267914, -24.2698445651184],\n",
       "[ 8.35515056607468e-7, -595.842496727148,  15.1967999241667]])"
      ]
     },
     "metadata": {},
     "output_type": "display_data"
    },
    {
     "name": "stdout",
     "output_type": "stream",
     "text": [
      "[[ 7.25690286e-09 -2.79876430e-01  0.00000000e+00]\n",
      " [-2.67356857e-05  2.95407497e+01 -2.42698446e+01]\n",
      " [ 8.35515057e-07 -5.95842497e+02  1.51967999e+01]]\n"
     ]
    },
    {
     "data": {
      "text/plain": [
       "{\\theta: 0.2000,\n",
       " \\alpha: 20.00,\n",
       " \\beta: 0.2500,\n",
       " \\mu: 1.000,\n",
       " c: 1.03002856613383,\n",
       " \\Delta: 9.34267426461180,\n",
       " A_0: 1.0,\n",
       " A_{-\\Delta}: -2.7549018239553586e-08,\n",
       " C1: -1.1351331181508974e-06}"
      ]
     },
     "execution_count": 42,
     "metadata": {},
     "output_type": "execute_result"
    }
   ],
   "source": [
    "helper_symbolics.get_numerical_parameters(params)"
   ]
  }
 ],
 "metadata": {
  "kernelspec": {
   "display_name": "Python 3",
   "language": "python",
   "name": "python3"
  },
  "language_info": {
   "codemirror_mode": {
    "name": "ipython",
    "version": 3
   },
   "file_extension": ".py",
   "mimetype": "text/x-python",
   "name": "python",
   "nbconvert_exporter": "python",
   "pygments_lexer": "ipython3",
   "version": "3.6.9"
  }
 },
 "nbformat": 4,
 "nbformat_minor": 5
}
